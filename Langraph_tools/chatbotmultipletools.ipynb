{
 "cells": [
  {
   "cell_type": "code",
   "execution_count": 3,
   "metadata": {},
   "outputs": [],
   "source": [
    "from langchain_community.tools import ArxivQueryRun, WikipediaQueryRun\n",
    "from langchain_community.utilities import ArxivAPIWrapper, WikipediaAPIWrapper"
   ]
  },
  {
   "cell_type": "code",
   "execution_count": 27,
   "metadata": {},
   "outputs": [],
   "source": [
    "api_wrapper_wiki = WikipediaAPIWrapper(top_k_results=1, doc_content_chars_max=200)\n",
    "wikipedia = WikipediaQueryRun(api_wrapper=api_wrapper_wiki)"
   ]
  },
  {
   "cell_type": "code",
   "execution_count": 14,
   "metadata": {},
   "outputs": [
    {
     "name": "stdout",
     "output_type": "stream",
     "text": [
      "Page: Machine learning\n",
      "Summary: Machine learning (ML) is a field of study in artificial intelligence concerned with the development and study of statistical algorithms that can learn from data and gen\n"
     ]
    }
   ],
   "source": [
    "print(tool.invoke({\"query\": \"Machine Learning\"}))"
   ]
  },
  {
   "cell_type": "code",
   "execution_count": 28,
   "metadata": {},
   "outputs": [],
   "source": [
    "api_wrapper_arxiv = ArxivAPIWrapper(top_k_results=1, doc_content_chars_max=200)\n",
    "arxiv = ArxivQueryRun(api_wrapper=api_wrapper_arxiv)"
   ]
  },
  {
   "cell_type": "code",
   "execution_count": 20,
   "metadata": {},
   "outputs": [
    {
     "name": "stdout",
     "output_type": "stream",
     "text": [
      "Published: 2024-07-22\n",
      "Title: Attention Is All You Need But You Don't Need All Of It For Inference of Large Language Models\n",
      "Authors: Georgy Tyukin, Gbetondji J-S Dovonon, Jean Kaddour, Pasquale Minervi\n"
     ]
    }
   ],
   "source": [
    "print(tool.invoke({\"query\": \"attention is all you need\"}))"
   ]
  },
  {
   "cell_type": "code",
   "execution_count": 21,
   "metadata": {},
   "outputs": [],
   "source": [
    "import os\n",
    "from dotenv import load_dotenv"
   ]
  },
  {
   "cell_type": "code",
   "execution_count": 23,
   "metadata": {},
   "outputs": [],
   "source": [
    "load_dotenv()\n",
    "os.environ[\"TAVILY_API_KEY\"] = os.getenv('TAVILY_API_KEY')\n",
    "os.environ[\"GROQ_API_KEY\"] = os.getenv(\"GROQ_API_KEY\")"
   ]
  },
  {
   "cell_type": "code",
   "execution_count": 25,
   "metadata": {},
   "outputs": [],
   "source": [
    "from langchain_community.tools.tavily_search import TavilySearchResults\n",
    "tavily = TavilySearchResults()"
   ]
  },
  {
   "cell_type": "code",
   "execution_count": 26,
   "metadata": {},
   "outputs": [
    {
     "data": {
      "text/plain": [
       "[{'title': 'AI News | Latest AI News, Analysis & Events',\n",
       "  'url': 'https://www.artificialintelligence-news.com/',\n",
       "  'content': 'March 4, 2025\\nAutoscience Carl: The first AI scientist writing peer-reviewed papers\\nApplications\\nMarch 3, 2025\\nDeep Learning\\nAlibaba Qwen QwQ-32B: Scaled reinforcement learning showcase\\nArtificial Intelligence\\nMarch 6, 2025\\nDeepSeek-R1 reasoning models rival OpenAI in performance\\nArtificial Intelligence\\nJanuary 20, 2025\\nNew AI training techniques aim to overcome current challenges\\nDeep & Reinforcement Learning\\nNovember 28, 2024 [...] Artificial Intelligence\\nMarch 14, 2025\\nOpenAI and Google call for US government action to secure AI lead\\n\\nArtificial Intelligence\\nMarch 14, 2025\\nCBRE: Leveraging Artificial Intelligence for business growth\\n\\nAGI\\nMarch 14, 2025\\nManus AI agent: breakthrough in China’s agentic AI\\n\\nApplications\\nMarch 13, 2025\\nServiceNow deploys AI agents to boost enterprise workflows [...] AI News\\nMarch 20, 2025\\nUK minister in US to pitch Britain as global AI investment hub\\n\\nTelecoms Tech News\\nMarch 20, 2025\\nOfcom plans rules to drive UK full-fibre broadband to 96% coverage\\n\\nMarketing Tech News\\nMarch 20, 2025\\nOracle continues talks with White House to run TikTok\\n\\nMarketing Tech News\\nMarch 19, 2025\\nSocial media platforms face fines and criminal prosecution in UK\\n\\nAI News\\nMarch 19, 2025\\nNVIDIA Dynamo: Scaling AI inference with open-source efficiency',\n",
       "  'score': 0.7663815},\n",
       " {'title': 'Artificial Intelligence News - ScienceDaily',\n",
       "  'url': 'https://www.sciencedaily.com/news/computers_math/artificial_intelligence/',\n",
       "  'content': \"Tuesday, November 12, 2024\\n\\nGiving Robots Superhuman Vision Using Radio Signals\\n\\nMonday, November 11, 2024\\n\\nAI Can Detect Serious Neurologic Changes in Babies in the NICU Using Video Data Alone\\nRobot That Watched Surgery Videos Performs With Skill of Human Doctor, Researchers Report\\n\\nThursday, November 7, 2024\\n\\nRobot Learns How to Clean a Washbasin\\n\\nWednesday, November 6, 2024\\n\\nAI-Driven Mobile Robots Team Up to Tackle Chemical Synthesis\\n\\nThursday, October 31, 2024 [...] Using Robots in Nursing Homes Linked to Higher Employee Retention, Better Patient Care\\n\\nMonday, January 6, 2025\\n\\nAI Slashes Cost and Time for Chip Design, but That Is Not All\\n\\nThursday, January 2, 2025\\n\\nArtificial Intelligence: Algorithms Improve Medical Image Analysis\\n\\nFriday, December 27, 2024\\n\\nCrossing the Uncanny Valley: Breakthrough in Technology for Lifelike Facial Expressions in Androids\\n\\nThursday, December 26, 2024\\n\\nWind Sensing by Biomimetic Flexible Flapping Wing With Strain Sensors [...] Thursday, December 19, 2024\\n\\nMachine Psychology: A Bridge to General AI?\\nLaser-Based Artificial Neuron Mimics Nerve Cell Functions at Lightning Speed\\n\\nWednesday, December 18, 2024\\n\\nSwarms of 'ant-Like' Robots Lift Heavy Objects and Hurl Themselves Over Obstacles\\n\\nTuesday, December 17, 2024\\n\\nDeveloping Artificial Intelligence Tools for Health Care\\nTiny Robots, Big Impact: Revolutionizing Infertility Treatment With Magnetic Microrobots\\n\\nMonday, December 16, 2024\",\n",
       "  'score': 0.71829855},\n",
       " {'title': 'AI News & Artificial Intelligence - TechCrunch',\n",
       "  'url': 'https://techcrunch.com/category/artificial-intelligence/',\n",
       "  'content': 'Maxwell Zeff\\n\\n4 days ago\\n\\n\\n\\nMedia & Entertainment\\nYouTube rolls out a free AI music-making tool for creators\\n\\nSarah Perez\\n\\n4 days ago\\n\\n\\n\\nAI\\nAmazon CEO Andy Jassy urges companies to invest heavily in AI\\n\\nRebecca Szkutak\\n\\n4 days ago\\n\\n\\n\\nClimate\\nGoogle thinks AI can untangle the electrical grid’s bureaucracy\\n\\nTim De Chant\\n\\n4 days ago\\n\\n\\n\\nAI\\nIncident.io raises $62M at a $400M valuation to help IT teams move fast when things break\\n\\nIngrid Lunden\\n\\n4 days ago [...] AI\\nThe rise of AI ‘reasoning’ models is making benchmarking more expensive\\n\\nKyle Wiggers\\n\\n4 days ago\\n\\n\\n\\nFintech\\nAI insurtech Ominimo bags its first investment at a $220M valuation\\n\\nIngrid Lunden\\n\\n4 days ago\\n\\n\\n\\nAI\\nElon Musk’s AI company, xAI, launches an API for Grok 3\\n\\nKyle Wiggers\\n\\n4 days ago\\n\\n\\n\\nAI\\nGoogle to embrace Anthropic’s standard for connecting AI models to data\\n\\nKyle Wiggers\\n\\n5 days ago\\n\\n\\n\\nAI\\nOpenAI countersues Elon Musk, calls for enjoinment from ‘further unlawful and unfair action’ [...] AI\\nAI models still struggle to debug software, Microsoft study shows\\n\\nKyle Wiggers\\n\\n4 days ago\\n\\n\\n\\nAI\\nThe US Secretary of Education referred to AI as ‘A1,’ like the steak sauce\\n\\nAmanda Silberling\\n\\n4 days ago\\n\\n\\n\\nApps\\nCanva is getting AI image generation, interactive coding, spreadsheets, and more\\n\\nIvan Mehta\\n\\n4 days ago\\n\\n\\n\\nAI\\nLiveKit’s tools power real-time communications, including OpenAI’s Voice Mode\\n\\nKyle Wiggers\\n\\n4 days ago\\n\\n\\n\\nAI\\nOpenAI updates ChatGPT to reference your past chats',\n",
       "  'score': 0.6649108},\n",
       " {'title': 'Artificial intelligence - NBC News',\n",
       "  'url': 'https://www.nbcnews.com/artificial-intelligence',\n",
       "  'content': \"ARTIFICIAL INTELLIGENCE\\nThe latest news and top stories on artificial intelligence, including ChatGPT, AI Chatbot and Bard.\\n Getty Images\\nARTIFICIAL INTELLIGENCE\\n'Billionaires versus billionaires': OpenAI feud between Elon Musk, Sam Altman faces federal judge\\n SeongJoon Cho / Bloomberg via Getty Images file\\nARTIFICIAL INTELLIGENCE\\nOpenAI partners with U.S. National Laboratories on scientific research, nuclear weapons security\\nAI NEWS\",\n",
       "  'score': 0.6133529}]"
      ]
     },
     "execution_count": 26,
     "metadata": {},
     "output_type": "execute_result"
    }
   ],
   "source": [
    "tavily.invoke(\"provide me the recent AI news\")"
   ]
  },
  {
   "cell_type": "markdown",
   "metadata": {},
   "source": [
    "### combining all these tools into the list"
   ]
  },
  {
   "cell_type": "code",
   "execution_count": 29,
   "metadata": {},
   "outputs": [],
   "source": [
    "tools = [arxiv, wikipedia, tavily]"
   ]
  },
  {
   "cell_type": "code",
   "execution_count": 30,
   "metadata": {},
   "outputs": [],
   "source": [
    "# Initializing the LLM model\n",
    "from langchain_groq import ChatGroq\n",
    "llm = ChatGroq(model = \"qwen-qwq-32b\")"
   ]
  },
  {
   "cell_type": "code",
   "execution_count": 31,
   "metadata": {},
   "outputs": [
    {
     "data": {
      "text/plain": [
       "AIMessage(content='\\n<think>\\nOkay, the user is asking, \"What is a prompt template?\" Let me start by breaking down the term. A prompt is something that triggers a response, right? Like in AI, when you give a model an input, that\\'s a prompt. A template must be a structured or predefined format for that prompt.\\n\\nHmm, so a prompt template is a reusable structure that guides how to format your input to get the best response from an AI. Maybe it includes placeholders for variables? Like, instead of writing a new prompt each time, you can plug in different values into the template.\\n\\nI should explain the components. Maybe start with the objective, then the structure. For example, a common template might have a greeting, instructions, and a specific request. Let me think of an example. Suppose someone wants to write a story. The template might be: \"Write a [genre] story about a [character] who faces a [challenge], and include elements of [specific theme].\" The user fills in the brackets each time.\\n\\nAlso, I should mention why they\\'re useful. They save time, ensure consistency, and can improve the quality of responses by providing clear instructions. Different use cases might include content creation, customer service, data analysis, etc. Maybe mention that some templates are predefined by the AI tools themselves, like in apps or APIs.\\n\\nWait, the user might also be confused about how exactly to create one. But the question is just asking for a definition and explanation. I should keep it clear and straightforward. Avoid jargon unless necessary. Maybe give a simple example to illustrate.\\n\\nOh, and maybe touch on customization. Templates can be adjusted based on the task. Also, maybe mention that they help in avoiding ambiguity by setting a clear format for the AI to follow. That reduces the chance of getting off-topic responses.\\n\\nI need to structure the answer logically. Start with a definition, then key components, examples, benefits, and use cases. Make sure it\\'s easy to follow. Let me check if there\\'s anything else. Maybe mention that they\\'re used in various fields like marketing, education, or tech support. Yeah, that adds context.\\n\\nAlright, putting it all together now. Start with a concise definition, then break down each part, use an example, explain benefits, and give use cases. Keep it simple and conversational without markdown. Make sure the user understands the purpose and practical applications.\\n</think>\\n\\nA **prompt template** is a structured, reusable framework or format used to guide the creation of prompts (questions, instructions, or tasks) for AI models, such as language models (e.g., GPT, ChatGPT). It provides a consistent structure that improves the clarity, efficiency, and effectiveness of interactions with the AI. By using templates, users can ensure that their prompts are well-organized, specific, and tailored to the desired outcome.\\n\\n---\\n\\n### **Key Components of a Prompt Template**\\n1. **Objective**: States the goal of the interaction (e.g., \"Summarize this article,\" \"Generate a poem\").\\n2. **Constraints**: Specifies rules or parameters (e.g., \"Use 100 words or fewer,\" \"Avoid technical jargon\").\\n3. **Input/Context**: Provides data, examples, or background information the AI should consider.\\n4. **Structure**: Outlines how the response should be formatted (e.g., bullet points, paragraphs, code).\\n5. **Tone/Style**: Indicates the desired tone (e.g., formal, casual, humorous).\\n\\n---\\n\\n### **Example of a Prompt Template**\\nHere’s a simple template for asking an AI to write a story:\\n```\\n\"Write a [genre] story set in [time/place], featuring a [character] who must [challenge]. Include the following elements: [specific themes or details]. The tone should be [mood], and the story should be approximately [length].\"\\n```\\nA filled-in version might be:\\n> *\"Write a sci-fi story set in a futuristic city, featuring a rebel engineer who must stop an AI from taking over the world. Include themes of ethics and sacrifice. The tone should be suspenseful, and the story should be 500 words.\"*\\n\\n---\\n\\n### **Why Use a Prompt Template?**\\n- **Consistency**: Ensures prompts are clear and follow a logical structure.\\n- **Time-saving**: Reusable formats reduce the need to reinvent prompts for similar tasks.\\n- **Precision**: Helps avoid ambiguity, guiding the AI toward the desired output.\\n- **Customization**: Templates can be adjusted for specific use cases (e.g., creative writing, data analysis, customer service).\\n\\n---\\n\\n### **Common Use Cases**\\n1. **Content Creation**: Templates for blog posts, scripts, or social media copy.\\n2. **Customer Support**: Predefined templates for handling FAQs or complaints.\\n3. **Education**: Structured templates for quizzes, lesson plans, or explanations.\\n4. **Programming**: Templates for coding tasks (e.g., \"Write a Python function to calculate…\").\\n5. **Creative Writing**: Story starters, dialogue scripts, or poetry prompts.\\n\\n---\\n\\n### **Example in Action**\\nSuppose you’re using an AI to analyze a document. A template might look like:\\n```\\n\"Analyze the following text and:  \\n1. Identify the main argument.  \\n2. List three supporting points.  \\n3. Suggest a counterargument.  \\nKeep responses concise and use bullet points.\"\\n```\\n\\n---\\n\\n### **Advantages of Prompt Templates**\\n- **Reduced ambiguity**: The AI knows exactly what to focus on.\\n- **Improved results**: Clear instructions lead to more accurate and relevant outputs.\\n- **Scalability**: Templates can be applied across similar tasks without rethinking the format each time.\\n\\n---\\n\\n### **Creating Your Own Template**\\n1. **Define the goal**: What do you want the AI to do?\\n2. **Identify constraints**: Are there limitations (e.g., word count, style)?\\n3. **Specify structure**: How should the response be formatted?\\n4. **Test and refine**: Adjust based on the AI’s output to improve results.\\n\\n---\\n\\nPrompt templates are especially useful for repetitive tasks or when working with less experienced users, as they reduce errors and streamline interactions with AI systems.', additional_kwargs={}, response_metadata={'token_usage': {'completion_tokens': 1267, 'prompt_tokens': 15, 'total_tokens': 1282, 'completion_time': 3.190783155, 'prompt_time': 0.002932597, 'queue_time': 2.796515313, 'total_time': 3.193715752}, 'model_name': 'qwen-qwq-32b', 'system_fingerprint': 'fp_a91d9c2cfb', 'finish_reason': 'stop', 'logprobs': None}, id='run-3769597e-1447-4a51-96df-a79828e05991-0', usage_metadata={'input_tokens': 15, 'output_tokens': 1267, 'total_tokens': 1282})"
      ]
     },
     "execution_count": 31,
     "metadata": {},
     "output_type": "execute_result"
    }
   ],
   "source": [
    "llm.invoke(\"what is prompt template?\")"
   ]
  },
  {
   "cell_type": "code",
   "execution_count": 33,
   "metadata": {},
   "outputs": [],
   "source": [
    "llm_with_tools = llm.bind_tools(tools=tools)"
   ]
  },
  {
   "cell_type": "code",
   "execution_count": 34,
   "metadata": {},
   "outputs": [
    {
     "data": {
      "text/plain": [
       "AIMessage(content='', additional_kwargs={'tool_calls': [{'id': 'call_b2a1', 'function': {'arguments': '{\"query\": \"recent AI tools 2024\"}', 'name': 'tavily_search_results_json'}, 'type': 'function'}]}, response_metadata={'token_usage': {'completion_tokens': 230, 'prompt_tokens': 403, 'total_tokens': 633, 'completion_time': 0.575949906, 'prompt_time': 0.101674877, 'queue_time': 4.289914517000001, 'total_time': 0.677624783}, 'model_name': 'qwen-qwq-32b', 'system_fingerprint': 'fp_512a3da6bb', 'finish_reason': 'tool_calls', 'logprobs': None}, id='run-7000ef17-4cae-4919-a2a3-ba4691145e15-0', tool_calls=[{'name': 'tavily_search_results_json', 'args': {'query': 'recent AI tools 2024'}, 'id': 'call_b2a1', 'type': 'tool_call'}], usage_metadata={'input_tokens': 403, 'output_tokens': 230, 'total_tokens': 633})"
      ]
     },
     "execution_count": 34,
     "metadata": {},
     "output_type": "execute_result"
    }
   ],
   "source": [
    "llm_with_tools.invoke(\"what is the recent tool on AI?\")"
   ]
  },
  {
   "cell_type": "code",
   "execution_count": 35,
   "metadata": {},
   "outputs": [
    {
     "data": {
      "text/plain": [
       "AIMessage(content='', additional_kwargs={'tool_calls': [{'id': 'call_d3mw', 'function': {'arguments': '{\"query\": \"quantum computing\"}', 'name': 'arxiv'}, 'type': 'function'}]}, response_metadata={'token_usage': {'completion_tokens': 176, 'prompt_tokens': 405, 'total_tokens': 581, 'completion_time': 0.440618914, 'prompt_time': 0.044038499, 'queue_time': 0.24720702, 'total_time': 0.484657413}, 'model_name': 'qwen-qwq-32b', 'system_fingerprint': 'fp_fbb7e6cc39', 'finish_reason': 'tool_calls', 'logprobs': None}, id='run-01abe971-e5d9-4c00-bfff-3252ee854ca5-0', tool_calls=[{'name': 'arxiv', 'args': {'query': 'quantum computing'}, 'id': 'call_d3mw', 'type': 'tool_call'}], usage_metadata={'input_tokens': 405, 'output_tokens': 176, 'total_tokens': 581})"
      ]
     },
     "execution_count": 35,
     "metadata": {},
     "output_type": "execute_result"
    }
   ],
   "source": [
    "llm_with_tools.invoke(\"what is the most recent research on quantum computing?\")"
   ]
  },
  {
   "cell_type": "code",
   "execution_count": 48,
   "metadata": {},
   "outputs": [],
   "source": [
    "from typing_extensions import TypedDict\n",
    "from langchain_core.messages import AnyMessage, HumanMessage # Human message or AI message\n",
    "from typing import Annotated # labelling\n",
    "from langgraph.graph.message import add_messages # Reducers in Langgraph"
   ]
  },
  {
   "cell_type": "code",
   "execution_count": 40,
   "metadata": {},
   "outputs": [],
   "source": [
    "class State(TypedDict):\n",
    "    messages : Annotated[list[AnyMessage], add_messages]"
   ]
  },
  {
   "cell_type": "code",
   "execution_count": 42,
   "metadata": {},
   "outputs": [],
   "source": [
    "from IPython.display import Image, display\n",
    "from langgraph.graph import StateGraph, START, END\n",
    "from langgraph.prebuilt import ToolNode\n",
    "from langgraph.prebuilt import tools_condition"
   ]
  },
  {
   "cell_type": "code",
   "execution_count": 43,
   "metadata": {},
   "outputs": [],
   "source": [
    "# Node Identification\n",
    "def tool_calling_llm(state:State):\n",
    "    return {\"messages\": [llm_with_tools.invoke(state[\"messages\"])]}"
   ]
  },
  {
   "cell_type": "code",
   "execution_count": 44,
   "metadata": {},
   "outputs": [
    {
     "data": {
      "text/plain": [
       "<langgraph.graph.state.StateGraph at 0x236fb6c9af0>"
      ]
     },
     "execution_count": 44,
     "metadata": {},
     "output_type": "execute_result"
    }
   ],
   "source": [
    "builder = StateGraph(State)\n",
    "builder.add_node(\"tool_calling_llm\", tool_calling_llm)\n",
    "builder.add_node(\"tools\", ToolNode(tools))"
   ]
  },
  {
   "cell_type": "code",
   "execution_count": 45,
   "metadata": {},
   "outputs": [
    {
     "data": {
      "text/plain": [
       "<langgraph.graph.state.StateGraph at 0x236fb6c9af0>"
      ]
     },
     "execution_count": 45,
     "metadata": {},
     "output_type": "execute_result"
    }
   ],
   "source": [
    "# Edges\n",
    "builder.add_edge(START, \"tool_calling_llm\")\n",
    "builder.add_conditional_edges(\n",
    "    \"tool_calling_llm\",\n",
    "    tools_condition,\n",
    ")\n",
    "builder.add_edge(\"tools\", END)"
   ]
  },
  {
   "cell_type": "code",
   "execution_count": 46,
   "metadata": {},
   "outputs": [
    {
     "data": {
      "image/png": "[encoded data removed]",
      "text/plain": [
       "<IPython.core.display.Image object>"
      ]
     },
     "metadata": {},
     "output_type": "display_data"
    }
   ],
   "source": [
    "graph = builder.compile()\n",
    "display(Image(graph.get_graph().draw_mermaid_png()))"
   ]
  },
  {
   "cell_type": "code",
   "execution_count": 50,
   "metadata": {},
   "outputs": [
    {
     "name": "stdout",
     "output_type": "stream",
     "text": [
      "================================\u001b[1m Human Message \u001b[0m=================================\n",
      "\n",
      "1706.03762\n",
      "==================================\u001b[1m Ai Message \u001b[0m==================================\n",
      "Tool Calls:\n",
      "  arxiv (call_bgcv)\n",
      " Call ID: call_bgcv\n",
      "  Args:\n",
      "    query: 1706.03762\n",
      "=================================\u001b[1m Tool Message \u001b[0m=================================\n",
      "Name: arxiv\n",
      "\n",
      "Published: 2023-08-02\n",
      "Title: Attention Is All You Need\n",
      "Authors: Ashish Vaswani, Noam Shazeer, Niki Parmar, Jakob Uszkoreit, Llion Jones, Aidan N. Gomez, Lukasz Kaiser, Illia Polosukhin\n",
      "Summary: The do\n"
     ]
    }
   ],
   "source": [
    "messages = graph.invoke({\"messages\":HumanMessage(content=\"1706.03762\")})\n",
    "for m in messages['messages']:\n",
    "    m.pretty_print()"
   ]
  },
  {
   "cell_type": "markdown",
   "metadata": {},
   "source": [
    "### New Graph/workflow"
   ]
  },
  {
   "cell_type": "code",
   "execution_count": 51,
   "metadata": {},
   "outputs": [],
   "source": [
    "builder = StateGraph(State)\n",
    "builder.add_node(\"tool_calling_llm\", tool_calling_llm)\n",
    "builder.add_node(\"tools\", ToolNode(tools))\n",
    "\n",
    "# Edges\n",
    "builder.add_edge(START, \"tool_calling_llm\")\n",
    "builder.add_conditional_edges(\n",
    "    \"tool_calling_llm\",\n",
    "    tools_condition,\n",
    ")\n",
    "builder.add_edge(\"tools\", \"tool_calling_llm\")\n",
    "graph = builder.compile()"
   ]
  },
  {
   "cell_type": "code",
   "execution_count": 53,
   "metadata": {},
   "outputs": [
    {
     "name": "stdout",
     "output_type": "stream",
     "text": [
      "================================\u001b[1m Human Message \u001b[0m=================================\n",
      "\n",
      "what is NLP and what is 1706.03762\n",
      "==================================\u001b[1m Ai Message \u001b[0m==================================\n",
      "Tool Calls:\n",
      "  wikipedia (call_pesh)\n",
      " Call ID: call_pesh\n",
      "  Args:\n",
      "    query: Natural Language Processing\n",
      "  arxiv (call_77vy)\n",
      " Call ID: call_77vy\n",
      "  Args:\n",
      "    query: 1706.03762\n",
      "=================================\u001b[1m Tool Message \u001b[0m=================================\n",
      "Name: wikipedia\n",
      "\n",
      "Page: Natural language processing\n",
      "Summary: Natural language processing (NLP) is a subfield of computer science and especially artificial intelligence. It is primarily concerned with providing computer\n",
      "=================================\u001b[1m Tool Message \u001b[0m=================================\n",
      "Name: arxiv\n",
      "\n",
      "Published: 2023-08-02\n",
      "Title: Attention Is All You Need\n",
      "Authors: Ashish Vaswani, Noam Shazeer, Niki Parmar, Jakob Uszkoreit, Llion Jones, Aidan N. Gomez, Lukasz Kaiser, Illia Polosukhin\n",
      "Summary: The do\n",
      "==================================\u001b[1m Ai Message \u001b[0m==================================\n",
      "\n",
      "**Natural Language Processing (NLP):**  \n",
      "Natural Language Processing (NLP) is a subfield of computer science and artificial intelligence focused on enabling computers to understand, interpret, and generate human language. It involves tasks like sentiment analysis, machine translation, text summarization, and speech recognition. NLP combines computational linguistics with machine learning techniques to bridge the gap between human communication and computer understanding.\n",
      "\n",
      "**ArXiv Paper 1706.03762 (\"Attention Is All You Need\"):**  \n",
      "This seminal 2017 paper introduced the **Transformer architecture**, a groundbreaking model that revolutionized NLP and machine learning. Key points:  \n",
      "- **Authors:** Ashish Vaswani, Noam Shazeer, Niki Parmar, and others.  \n",
      "- **Focus:** Replaced sequential recurrent networks (e.g., RNNs/LSTMs) with self-attention mechanisms, enabling more efficient processing of text data.  \n",
      "- **Impact:** Laid the foundation for models like BERT, GPT, and others that power modern NLP applications.  \n",
      "\n",
      "The Transformer’s parallelization capabilities and attention mechanisms remain central to state-of-the-art AI systems today.\n"
     ]
    }
   ],
   "source": [
    "messages = graph.invoke({\"messages\":HumanMessage(content=\"what is NLP and what is 1706.03762\")})\n",
    "for m in messages['messages']:\n",
    "    m.pretty_print()"
   ]
  },
  {
   "cell_type": "code",
   "execution_count": null,
   "metadata": {},
   "outputs": [],
   "source": []
  }
 ],
 "metadata": {
  "kernelspec": {
   "display_name": "langgraph",
   "language": "python",
   "name": "python3"
  },
  "language_info": {
   "codemirror_mode": {
    "name": "ipython",
    "version": 3
   },
   "file_extension": ".py",
   "mimetype": "text/x-python",
   "name": "python",
   "nbconvert_exporter": "python",
   "pygments_lexer": "ipython3",
   "version": "3.12.9"
  }
 },
 "nbformat": 4,
 "nbformat_minor": 2
}
